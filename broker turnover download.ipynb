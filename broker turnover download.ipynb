{
 "cells": [
  {
   "cell_type": "markdown",
   "metadata": {},
   "source": [
    "### Multiple Days"
   ]
  },
  {
   "cell_type": "code",
   "execution_count": 4,
   "metadata": {},
   "outputs": [],
   "source": [
    "start_date = '2023-9-1' \n",
    "end_date = '2023-09-24'"
   ]
  },
  {
   "cell_type": "code",
   "execution_count": 5,
   "metadata": {},
   "outputs": [],
   "source": [
    "from datetime import datetime\n",
    "import pandas as pd\n",
    "latest_data_available = start_date\n",
    "from_date  = datetime.strptime(latest_data_available, '%Y-%m-%d')\n",
    "to = end_date\n",
    "to_date = datetime.strptime(to, '%Y-%m-%d')"
   ]
  },
  {
   "cell_type": "code",
   "execution_count": 6,
   "metadata": {},
   "outputs": [
    {
     "name": "stdout",
     "output_type": "stream",
     "text": [
      "16\n"
     ]
    }
   ],
   "source": [
    "date_to_start_scraping_from  = from_date.date() + pd.to_timedelta(1, unit=\"D\")\n",
    "dates = pd.date_range(start = date_to_start_scraping_from, end = to)\n",
    "dates = [d for d in dates if not d.isoweekday() in [5,6]] # List excluding Friday and Saturday\n",
    "print(len(dates))"
   ]
  },
  {
   "cell_type": "code",
   "execution_count": null,
   "metadata": {},
   "outputs": [],
   "source": [
    "from bs4 import BeautifulSoup\n",
    "from selenium import webdriver\n",
    "from selenium.webdriver.common.keys import Keys\n",
    "from selenium.webdriver.common.by import By\n",
    "from selenium.webdriver.chrome.options import Options\n",
    "import time\n",
    "import os\n",
    "from selenium.webdriver.chrome.service import Service\n",
    "from webdriver_manager.chrome import ChromeDriverManager\n",
    "\n",
    "\n",
    "options = Options()\n",
    "options.add_argument(\"start-maximized\")\n",
    "driver = webdriver.Chrome(service=Service(ChromeDriverManager().install()), options=options)\n",
    "\n",
    "driver.get('https://www.sharesansar.com/top-brokers')\n",
    "# driver.implicitly_wait(15)\n",
    " # Starting Nepalipaisa websitee\n",
    "\n",
    "\n",
    "\n",
    "blank_df = []\n",
    "for date in dates:\n",
    "    driver.find_element(By.XPATH, '//*[@id=\"date\"]').clear()\n",
    "    driver.find_element(By.XPATH, '//*[@id=\"date\"]').send_keys(f'{date.date()}')# \n",
    "    driver.find_element(By.XPATH, '//*[@id=\"btn_topbrokers_submit\"]').click()\n",
    "    #     time.sleep(10)\n",
    "    html = driver.page_source\n",
    "    soup = BeautifulSoup(html, 'html.parser')\n",
    "    todays_price = soup.find('table', id = 'myTable')\n",
    "    time.sleep(1)\n",
    "    if len(todays_price.findAll('tr'))<10:\n",
    "        pass\n",
    "    else:\n",
    "        output_rows = []\n",
    "        for table_row in todays_price.findAll('tr'): # looping through all the table rows in a page\n",
    "            columns = table_row.findAll('td') #finding the cell values of every row in the table\n",
    "            output_row = []\n",
    "            for column in columns: # looping through each cellvalue data in a row \n",
    "                output_row.append(column.text)\n",
    "            output_rows.append(output_row)\n",
    "            headers_list = []\n",
    "            for headers in todays_price.find_all('th'):\n",
    "                headers_list.append(headers.text)\n",
    "        todays_price_dataframe = pd.DataFrame(output_rows)[1:]\n",
    "        todays_price_dataframe.columns = headers_list\n",
    "    #     todays_price_dataframe['Symbol'] = todays_price_dataframe['Symbol'].str.replace(\"\\n\", \"\")\n",
    "        todays_price_dataframe.set_index('S.N.', inplace = True)\n",
    "        todays_price_dataframe['Date'] = date\n",
    "        blank_df.append(todays_price_dataframe)\n",
    "#         time.sleep(1)\n",
    "        print(date)\n",
    "\n",
    "driver.quit()\n"
   ]
  },
  {
   "cell_type": "code",
   "execution_count": null,
   "metadata": {},
   "outputs": [],
   "source": [
    "# pd.concat(blank_df).to_csv('turnover19-20.csv')"
   ]
  }
 ],
 "metadata": {
  "kernelspec": {
   "display_name": "Python 3 (ipykernel)",
   "language": "python",
   "name": "python3"
  },
  "language_info": {
   "codemirror_mode": {
    "name": "ipython",
    "version": 3
   },
   "file_extension": ".py",
   "mimetype": "text/x-python",
   "name": "python",
   "nbconvert_exporter": "python",
   "pygments_lexer": "ipython3",
   "version": "3.11.3"
  }
 },
 "nbformat": 4,
 "nbformat_minor": 4
}
